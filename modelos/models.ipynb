{
 "cells": [
  {
   "cell_type": "code",
   "execution_count": 183,
   "metadata": {},
   "outputs": [],
   "source": [
    "import os\n",
    "import numpy as np\n",
    "import pandas as pd\n",
    "import collections\n",
    "import seaborn as sns\n",
    "import matplotlib.pyplot as plt\n",
    "\n",
    "from sklearn.model_selection import train_test_split, GridSearchCV,StratifiedKFold\n",
    "from sklearn.preprocessing import StandardScaler\n",
    "from imblearn.over_sampling import SMOTE\n",
    "from sklearn.linear_model import LogisticRegression\n",
    "from xgboost import XGBClassifier\n",
    "from sklearn.metrics import accuracy_score, precision_score, recall_score, f1_score, roc_curve, auc, confusion_matrix"
   ]
  },
  {
   "cell_type": "code",
   "execution_count": 42,
   "metadata": {},
   "outputs": [],
   "source": [
    "file_path = (os.path.dirname(os.getcwd()) + '/data/')\n",
    "data = pd.read_csv(file_path + '/Bank_Customer_Churn_Prediction.csv')"
   ]
  },
  {
   "cell_type": "markdown",
   "metadata": {},
   "source": [
    "## DATA PREPROCESING ##"
   ]
  },
  {
   "cell_type": "code",
   "execution_count": 43,
   "metadata": {},
   "outputs": [
    {
     "name": "stdout",
     "output_type": "stream",
     "text": [
      "<class 'pandas.core.frame.DataFrame'>\n",
      "RangeIndex: 10000 entries, 0 to 9999\n",
      "Data columns (total 12 columns):\n",
      " #   Column            Non-Null Count  Dtype  \n",
      "---  ------            --------------  -----  \n",
      " 0   customer_id       10000 non-null  int64  \n",
      " 1   credit_score      10000 non-null  int64  \n",
      " 2   country           10000 non-null  object \n",
      " 3   gender            10000 non-null  object \n",
      " 4   age               10000 non-null  int64  \n",
      " 5   tenure            10000 non-null  int64  \n",
      " 6   balance           10000 non-null  float64\n",
      " 7   products_number   10000 non-null  int64  \n",
      " 8   credit_card       10000 non-null  int64  \n",
      " 9   active_member     10000 non-null  int64  \n",
      " 10  estimated_salary  10000 non-null  float64\n",
      " 11  churn             10000 non-null  int64  \n",
      "dtypes: float64(2), int64(8), object(2)\n",
      "memory usage: 937.6+ KB\n"
     ]
    }
   ],
   "source": [
    "data.info()"
   ]
  },
  {
   "cell_type": "code",
   "execution_count": 44,
   "metadata": {},
   "outputs": [
    {
     "name": "stdout",
     "output_type": "stream",
     "text": [
      "<class 'pandas.core.frame.DataFrame'>\n",
      "RangeIndex: 10000 entries, 0 to 9999\n",
      "Data columns (total 11 columns):\n",
      " #   Column            Non-Null Count  Dtype\n",
      "---  ------            --------------  -----\n",
      " 0   credit_score      10000 non-null  int64\n",
      " 1   country           10000 non-null  int64\n",
      " 2   gender            10000 non-null  int64\n",
      " 3   age               10000 non-null  int64\n",
      " 4   tenure            10000 non-null  int64\n",
      " 5   balance           10000 non-null  int64\n",
      " 6   products_number   10000 non-null  int64\n",
      " 7   credit_card       10000 non-null  int64\n",
      " 8   active_member     10000 non-null  int64\n",
      " 9   estimated_salary  10000 non-null  int64\n",
      " 10  churn             10000 non-null  int64\n",
      "dtypes: int64(11)\n",
      "memory usage: 859.5 KB\n"
     ]
    }
   ],
   "source": [
    "data.drop(columns=\"customer_id\",axis=1,inplace=True)\n",
    "data['country'] = data['country'].map({'France': 0, 'Spain' : 1,'Germany':2})\n",
    "data['gender'] = data['gender'].map({'Male': 0, 'Female' : 1})\n",
    "data['balance'] = data['balance'].astype('int64')\n",
    "data['estimated_salary'] = data['estimated_salary'].astype('int64')\n",
    "data.to_csv(file_path+'preprcessed_data.csv')\n",
    "data.info()\n"
   ]
  },
  {
   "cell_type": "code",
   "execution_count": 45,
   "metadata": {},
   "outputs": [
    {
     "name": "stdout",
     "output_type": "stream",
     "text": [
      "<class 'pandas.core.frame.DataFrame'>\n",
      "RangeIndex: 10000 entries, 0 to 9999\n",
      "Data columns (total 11 columns):\n",
      " #   Column            Non-Null Count  Dtype\n",
      "---  ------            --------------  -----\n",
      " 0   credit_score      10000 non-null  int64\n",
      " 1   country           10000 non-null  int64\n",
      " 2   gender            10000 non-null  int64\n",
      " 3   age               10000 non-null  int64\n",
      " 4   tenure            10000 non-null  int64\n",
      " 5   balance           10000 non-null  int64\n",
      " 6   products_number   10000 non-null  int64\n",
      " 7   credit_card       10000 non-null  int64\n",
      " 8   active_member     10000 non-null  int64\n",
      " 9   estimated_salary  10000 non-null  int64\n",
      " 10  churn             10000 non-null  int64\n",
      "dtypes: int64(11)\n",
      "memory usage: 859.5 KB\n"
     ]
    }
   ],
   "source": [
    "data.to_csv(file_path+'preprcessed_data.csv')\n",
    "data.info()"
   ]
  },
  {
   "cell_type": "code",
   "execution_count": 46,
   "metadata": {},
   "outputs": [
    {
     "data": {
      "text/plain": [
       "credit_score        0\n",
       "country             0\n",
       "gender              0\n",
       "age                 0\n",
       "tenure              0\n",
       "balance             0\n",
       "products_number     0\n",
       "credit_card         0\n",
       "active_member       0\n",
       "estimated_salary    0\n",
       "churn               0\n",
       "dtype: int64"
      ]
     },
     "execution_count": 46,
     "metadata": {},
     "output_type": "execute_result"
    }
   ],
   "source": [
    "data.isnull().sum()"
   ]
  },
  {
   "cell_type": "code",
   "execution_count": 47,
   "metadata": {},
   "outputs": [],
   "source": [
    "y = data['churn']\n",
    "X = data.drop(columns='churn', axis = 1)"
   ]
  },
  {
   "cell_type": "code",
   "execution_count": 49,
   "metadata": {},
   "outputs": [
    {
     "data": {
      "text/html": [
       "<div>\n",
       "<style scoped>\n",
       "    .dataframe tbody tr th:only-of-type {\n",
       "        vertical-align: middle;\n",
       "    }\n",
       "\n",
       "    .dataframe tbody tr th {\n",
       "        vertical-align: top;\n",
       "    }\n",
       "\n",
       "    .dataframe thead th {\n",
       "        text-align: right;\n",
       "    }\n",
       "</style>\n",
       "<table border=\"1\" class=\"dataframe\">\n",
       "  <thead>\n",
       "    <tr style=\"text-align: right;\">\n",
       "      <th></th>\n",
       "      <th>credit_score</th>\n",
       "      <th>country</th>\n",
       "      <th>gender</th>\n",
       "      <th>age</th>\n",
       "      <th>tenure</th>\n",
       "      <th>balance</th>\n",
       "      <th>products_number</th>\n",
       "      <th>credit_card</th>\n",
       "      <th>active_member</th>\n",
       "      <th>estimated_salary</th>\n",
       "    </tr>\n",
       "  </thead>\n",
       "  <tbody>\n",
       "    <tr>\n",
       "      <th>0</th>\n",
       "      <td>619</td>\n",
       "      <td>0</td>\n",
       "      <td>1</td>\n",
       "      <td>42</td>\n",
       "      <td>2</td>\n",
       "      <td>0</td>\n",
       "      <td>1</td>\n",
       "      <td>1</td>\n",
       "      <td>1</td>\n",
       "      <td>101348</td>\n",
       "    </tr>\n",
       "    <tr>\n",
       "      <th>1</th>\n",
       "      <td>608</td>\n",
       "      <td>1</td>\n",
       "      <td>1</td>\n",
       "      <td>41</td>\n",
       "      <td>1</td>\n",
       "      <td>83807</td>\n",
       "      <td>1</td>\n",
       "      <td>0</td>\n",
       "      <td>1</td>\n",
       "      <td>112542</td>\n",
       "    </tr>\n",
       "    <tr>\n",
       "      <th>2</th>\n",
       "      <td>502</td>\n",
       "      <td>0</td>\n",
       "      <td>1</td>\n",
       "      <td>42</td>\n",
       "      <td>8</td>\n",
       "      <td>159660</td>\n",
       "      <td>3</td>\n",
       "      <td>1</td>\n",
       "      <td>0</td>\n",
       "      <td>113931</td>\n",
       "    </tr>\n",
       "    <tr>\n",
       "      <th>3</th>\n",
       "      <td>699</td>\n",
       "      <td>0</td>\n",
       "      <td>1</td>\n",
       "      <td>39</td>\n",
       "      <td>1</td>\n",
       "      <td>0</td>\n",
       "      <td>2</td>\n",
       "      <td>0</td>\n",
       "      <td>0</td>\n",
       "      <td>93826</td>\n",
       "    </tr>\n",
       "    <tr>\n",
       "      <th>4</th>\n",
       "      <td>850</td>\n",
       "      <td>1</td>\n",
       "      <td>1</td>\n",
       "      <td>43</td>\n",
       "      <td>2</td>\n",
       "      <td>125510</td>\n",
       "      <td>1</td>\n",
       "      <td>1</td>\n",
       "      <td>1</td>\n",
       "      <td>79084</td>\n",
       "    </tr>\n",
       "  </tbody>\n",
       "</table>\n",
       "</div>"
      ],
      "text/plain": [
       "   credit_score  country  gender  age  tenure  balance  products_number  \\\n",
       "0           619        0       1   42       2        0                1   \n",
       "1           608        1       1   41       1    83807                1   \n",
       "2           502        0       1   42       8   159660                3   \n",
       "3           699        0       1   39       1        0                2   \n",
       "4           850        1       1   43       2   125510                1   \n",
       "\n",
       "   credit_card  active_member  estimated_salary  \n",
       "0            1              1            101348  \n",
       "1            0              1            112542  \n",
       "2            1              0            113931  \n",
       "3            0              0             93826  \n",
       "4            1              1             79084  "
      ]
     },
     "execution_count": 49,
     "metadata": {},
     "output_type": "execute_result"
    }
   ],
   "source": [
    "X.head()"
   ]
  },
  {
   "cell_type": "code",
   "execution_count": 145,
   "metadata": {},
   "outputs": [
    {
     "name": "stdout",
     "output_type": "stream",
     "text": [
      "[(0, 7963), (1, 7963)]\n"
     ]
    }
   ],
   "source": [
    "X_resampled, y_resampled = SMOTE().fit_resample(X, y)\n",
    "print(sorted(collections.Counter(y_resampled).items()))"
   ]
  },
  {
   "cell_type": "code",
   "execution_count": 143,
   "metadata": {},
   "outputs": [
    {
     "name": "stderr",
     "output_type": "stream",
     "text": [
      "C:\\Users\\Teresa\\AppData\\Local\\Temp\\ipykernel_5592\\2992105325.py:2: FutureWarning: \n",
      "\n",
      "Passing `palette` without assigning `hue` is deprecated and will be removed in v0.14.0. Assign the `x` variable to `hue` and set `legend=False` for the same effect.\n",
      "\n",
      "  sns.countplot(x='churn', data=dataframe,alpha=0.8,palette='pastel')\n"
     ]
    },
    {
     "data": {
      "image/png": "[encoded data removed]",
      "text/plain": [
       "<Figure size 640x480 with 1 Axes>"
      ]
     },
     "metadata": {},
     "output_type": "display_data"
    }
   ],
   "source": [
    "dataframe = pd.DataFrame(y_resampled)\n",
    "sns.countplot(x='churn', data=dataframe,alpha=0.8,palette='pastel')\n",
    "plt.title('Distribución de la variable de fuga')\n",
    "plt.show()"
   ]
  },
  {
   "cell_type": "code",
   "execution_count": 149,
   "metadata": {},
   "outputs": [
    {
     "name": "stdout",
     "output_type": "stream",
     "text": [
      "<class 'pandas.core.frame.DataFrame'>\n",
      "RangeIndex: 15926 entries, 0 to 15925\n",
      "Data columns (total 10 columns):\n",
      " #   Column            Non-Null Count  Dtype\n",
      "---  ------            --------------  -----\n",
      " 0   credit_score      15926 non-null  int64\n",
      " 1   country           15926 non-null  int64\n",
      " 2   gender            15926 non-null  int64\n",
      " 3   age               15926 non-null  int64\n",
      " 4   tenure            15926 non-null  int64\n",
      " 5   balance           15926 non-null  int64\n",
      " 6   products_number   15926 non-null  int64\n",
      " 7   credit_card       15926 non-null  int64\n",
      " 8   active_member     15926 non-null  int64\n",
      " 9   estimated_salary  15926 non-null  int64\n",
      "dtypes: int64(10)\n",
      "memory usage: 1.2 MB\n"
     ]
    }
   ],
   "source": [
    "X_resampled.info()\n"
   ]
  },
  {
   "cell_type": "code",
   "execution_count": 150,
   "metadata": {},
   "outputs": [],
   "source": [
    "X_train, X_test, y_train, y_test = train_test_split(X_resampled, y_resampled, test_size=0.2, random_state=42)"
   ]
  },
  {
   "cell_type": "code",
   "execution_count": 167,
   "metadata": {},
   "outputs": [],
   "source": [
    "sc= StandardScaler()\n",
    "X_train_rescaled = sc.fit_transform(X_train)\n",
    "X_test_rescaled = sc.transform(X_test)"
   ]
  },
  {
   "cell_type": "code",
   "execution_count": 168,
   "metadata": {},
   "outputs": [
    {
     "name": "stdout",
     "output_type": "stream",
     "text": [
      "8.148374701299109e-17\n",
      "0.01680282404874339\n",
      "1.0\n",
      "1.0095041864851213\n"
     ]
    }
   ],
   "source": [
    "print(X_train_rescaled.mean())\n",
    "print(X_test_rescaled.mean())\n",
    "print(X_train_rescaled.std())\n",
    "print(X_test_rescaled.std())"
   ]
  },
  {
   "cell_type": "markdown",
   "metadata": {},
   "source": [
    "## LOGISTIC REGRESSION ##"
   ]
  },
  {
   "cell_type": "markdown",
   "metadata": {},
   "source": [
    "### Fine-tuning ###"
   ]
  },
  {
   "cell_type": "code",
   "execution_count": 174,
   "metadata": {},
   "outputs": [
    {
     "name": "stdout",
     "output_type": "stream",
     "text": [
      "Fitting 10 folds for each of 3 candidates, totalling 30 fits\n",
      "Acuracy for LogisticRegression with BEST C:5 is 0.7449764521193093\n"
     ]
    }
   ],
   "source": [
    "### Hyper-parameter tuning with Grid Search method.\n",
    "param_grid = {'C' : range(5,20,5)}\n",
    "\n",
    "clf_model = GridSearchCV(LogisticRegression(random_state=42),param_grid,cv=10, n_jobs=1, verbose=1)\n",
    "clf_model = clf_model.fit(X_train_rescaled,y_train)\n",
    "\n",
    "print ('Acuracy for LogisticRegression with BEST C:{} is {}'.format(\n",
    "    clf_model.best_params_['C'],\n",
    "    clf_model.best_score_))\n",
    "    "
   ]
  },
  {
   "cell_type": "code",
   "execution_count": null,
   "metadata": {},
   "outputs": [],
   "source": [
    "### Hyper-parameter tuning with Grid Search method.\n",
    "\"\"\"param_grid = {'Cs' : range(5,20,5),\n",
    "              'cv' : range(5,20,5)\n",
    "            }\n",
    "\n",
    "cv = StratifiedKFold(n_splits=10, random_state=None, shuffle=True)\n",
    "clf_model = GridSearchCV(LogisticRegressionCV(random_state=42),param_grid,cv=cv, n_jobs=1, verbose=1)\n",
    "clf_model = clf_model.fit(X_train_rescaled,y_train)\n",
    "\n",
    "print ('Acuracy for LogisticRegressionCV with BEST Cs is:{0} and cv is{1}. The success rate is: {2}:'.format(\n",
    "    clf_model.best_params_['Cs'], clf_model.best_params_['cv'],\n",
    "    clf_model.best_score_))\"\"\""
   ]
  },
  {
   "cell_type": "code",
   "execution_count": 189,
   "metadata": {},
   "outputs": [
    {
     "name": "stdout",
     "output_type": "stream",
     "text": [
      "Mean accuracy: 0.7448979591836735\n",
      "Mean precision: 0.7371674721052475\n",
      "Mean recall: 0.7666146645865834\n",
      "Mean F1 score: 0.7514410860993774\n"
     ]
    }
   ],
   "source": [
    "from sklearn.model_selection import cross_validate\n",
    "model_lr = LogisticRegression(random_state=42)\n",
    "cv = StratifiedKFold(n_splits=10, random_state=None, shuffle=True)\n",
    "scores = cross_validate(model_lr, X_train_rescaled, y_train,cv=cv, scoring=('accuracy', 'precision','recall','f1'),\n",
    "                        return_train_score=True)\n",
    "\n",
    "mean_accuracy = scores['test_accuracy'].mean()\n",
    "mean_precision = scores['test_precision'].mean()\n",
    "mean_recall = scores['test_recall'].mean()\n",
    "mean_f1 = scores['test_f1'].mean()\n",
    "\n",
    "print('Mean accuracy:', mean_accuracy)\n",
    "print('Mean precision:', mean_precision)\n",
    "print('Mean recall:', mean_recall)\n",
    "print('Mean F1 score:', mean_f1)"
   ]
  },
  {
   "cell_type": "markdown",
   "metadata": {},
   "source": [
    "### Train ###"
   ]
  },
  {
   "cell_type": "code",
   "execution_count": 185,
   "metadata": {},
   "outputs": [],
   "source": [
    "model_lr = LogisticRegression(random_state=42)\n",
    "model_lr.fit(X_train_rescaled,y_train)\n",
    "y_pred = model_lr.predict(X_test_rescaled)"
   ]
  },
  {
   "cell_type": "markdown",
   "metadata": {},
   "source": [
    "### Evaluation ###"
   ]
  },
  {
   "cell_type": "code",
   "execution_count": 182,
   "metadata": {},
   "outputs": [
    {
     "name": "stdout",
     "output_type": "stream",
     "text": [
      "Accuracy: 0.761142498430634\n",
      "Precision: 0.7441430332922319\n",
      "Recall: 0.7772054088860271\n",
      "F1-score: 0.7603149606299212\n"
     ]
    }
   ],
   "source": [
    "accuracy = accuracy_score(y_test,y_pred)\n",
    "precision = precision_score(y_test, y_pred)\n",
    "recall = recall_score(y_test, y_pred)\n",
    "f1 = f1_score(y_test, y_pred)\n",
    "print(\"Accuracy:\", accuracy)\n",
    "print(\"Precision:\", precision)\n",
    "print(\"Recall:\", recall)\n",
    "print(\"F1-score:\", f1)"
   ]
  },
  {
   "cell_type": "markdown",
   "metadata": {},
   "source": [
    "### How many times was the classifier correct on the test set? ###"
   ]
  },
  {
   "cell_type": "code",
   "execution_count": 186,
   "metadata": {},
   "outputs": [
    {
     "name": "stdout",
     "output_type": "stream",
     "text": [
      "churn\n",
      "0    9515\n",
      "1    3225\n",
      "Name: count, dtype: int64\n",
      "----------------------------------\n",
      "churn\n",
      "0    0.74686\n",
      "1    0.25314\n",
      "Name: proportion, dtype: float64\n"
     ]
    }
   ],
   "source": [
    "y_pred_train = model_lr.predict(X_train_rescaled)\n",
    "# Find residual differences between train data and predicted train data\n",
    "residuals = np.abs(y_train - y_pred_train)\n",
    "# Print value counts of our predicted values \n",
    "print(pd.Series(residuals).value_counts())\n",
    "print('----------------------------------')\n",
    "# Print normalized value counts of our predicted values\n",
    "print(pd.Series(residuals).value_counts(normalize = True))"
   ]
  },
  {
   "cell_type": "code",
   "execution_count": 187,
   "metadata": {},
   "outputs": [
    {
     "name": "stdout",
     "output_type": "stream",
     "text": [
      "churn\n",
      "0    2425\n",
      "1     761\n",
      "Name: count, dtype: int64\n",
      "----------------------------------\n",
      "churn\n",
      "0    0.761142\n",
      "1    0.238858\n",
      "Name: proportion, dtype: float64\n"
     ]
    }
   ],
   "source": [
    "y_pred_test = model_lr.predict(X_test_rescaled)\n",
    "# Find residual differences between train data and predicted train data\n",
    "residuals = np.abs(y_test - y_pred_test)\n",
    "# Print value counts of our predicted values \n",
    "print(pd.Series(residuals).value_counts())\n",
    "print('----------------------------------')\n",
    "# Print normalized value counts of our predicted values\n",
    "print(pd.Series(residuals).value_counts(normalize = True))"
   ]
  },
  {
   "cell_type": "code",
   "execution_count": 188,
   "metadata": {},
   "outputs": [
    {
     "name": "stdout",
     "output_type": "stream",
     "text": [
      "Confusion Matrix: \n",
      " [[1218  415]\n",
      " [ 346 1207]]\n"
     ]
    }
   ],
   "source": [
    "# Call confusion_matrix function from sklearn.metrics using actual y_test and predicted y_test data sets \n",
    "cnf_matrix = confusion_matrix(y_test, y_pred_test)\n",
    "print('Confusion Matrix: \\n', cnf_matrix)"
   ]
  },
  {
   "cell_type": "markdown",
   "metadata": {},
   "source": [
    "## XGB Classifier ##"
   ]
  }
 ],
 "metadata": {
  "kernelspec": {
   "display_name": "Python 3",
   "language": "python",
   "name": "python3"
  },
  "language_info": {
   "codemirror_mode": {
    "name": "ipython",
    "version": 3
   },
   "file_extension": ".py",
   "mimetype": "text/x-python",
   "name": "python",
   "nbconvert_exporter": "python",
   "pygments_lexer": "ipython3",
   "version": "3.11.4"
  }
 },
 "nbformat": 4,
 "nbformat_minor": 2
}
