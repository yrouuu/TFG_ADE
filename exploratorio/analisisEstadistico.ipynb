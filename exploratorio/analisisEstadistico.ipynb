{
 "cells": [
  {
   "cell_type": "markdown",
   "metadata": {},
   "source": [
    "# ANÁLISIS ESTADÍSTICO DE LOS DATOS\n",
    "\n",
    "En este notebook se realiza el análisis estadístico del dataset **Bank Customer Churn Prediction**, el cual consiste en saber si existe alguna relación entre las variables y la importancia de cada variable para el modelo\n",
    "\n",
    "Para ello, se aplicarán técnicas de contraste de hipótesis \n"
   ]
  }
 ],
 "metadata": {
  "language_info": {
   "name": "python"
  }
 },
 "nbformat": 4,
 "nbformat_minor": 2
}
